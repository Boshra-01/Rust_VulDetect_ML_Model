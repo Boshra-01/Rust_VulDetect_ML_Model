{
  "nbformat": 4,
  "nbformat_minor": 0,
  "metadata": {
    "colab": {
      "provenance": [],
      "toc_visible": true,
      "authorship_tag": "ABX9TyODRZ1pIPPlGQAek6oY8hvh",
      "include_colab_link": true
    },
    "kernelspec": {
      "name": "python3",
      "display_name": "Python 3"
    },
    "language_info": {
      "name": "python"
    }
  },
  "cells": [
    {
      "cell_type": "markdown",
      "metadata": {
        "id": "view-in-github",
        "colab_type": "text"
      },
      "source": [
        "<a href=\"https://colab.research.google.com/github/Boshra-01/Rust_VulDetect_ML_Model/blob/main/Rust_VulDetect_ML_Model.ipynb\" target=\"_parent\"><img src=\"https://colab.research.google.com/assets/colab-badge.svg\" alt=\"Open In Colab\"/></a>"
      ]
    },
    {
      "cell_type": "markdown",
      "source": [
        "## Setting up Environment"
      ],
      "metadata": {
        "id": "ahwpHiBkhXXf"
      }
    },
    {
      "cell_type": "code",
      "execution_count": 1,
      "metadata": {
        "colab": {
          "base_uri": "https://localhost:8080/"
        },
        "id": "ZwhZmvnJAB90",
        "outputId": "995d2f85-859f-4ae0-c17e-8bcae57c45ad"
      },
      "outputs": [
        {
          "output_type": "stream",
          "name": "stdout",
          "text": [
            "Drive already mounted at /content/drive; to attempt to forcibly remount, call drive.mount(\"/content/drive\", force_remount=True).\n"
          ]
        }
      ],
      "source": [
        "from google.colab import drive\n",
        "drive.mount('/content/drive')"
      ]
    },
    {
      "cell_type": "markdown",
      "source": [
        "### Import Packages and Libraries"
      ],
      "metadata": {
        "id": "kziTcbfHh4aF"
      }
    },
    {
      "cell_type": "markdown",
      "source": [
        " We install essential Python libraries, PyTorch for deep learning operations, Transformers for accessing pre-trained models (GraphCodeBERT), scikit-learn for machine learning algorithms, and tqdm for progress visualization."
      ],
      "metadata": {
        "id": "XCR7sgB0NBLD"
      }
    },
    {
      "cell_type": "code",
      "source": [
        "!pip install torch transformers scikit-learn tqdm\n",
        "\n",
        "import os\n",
        "import torch\n",
        "import numpy as np\n",
        "from tqdm import tqdm\n",
        "from transformers import RobertaTokenizer, RobertaModel\n",
        "from sklearn.model_selection import train_test_split\n",
        "from sklearn.ensemble import RandomForestClassifier\n",
        "from sklearn.metrics import classification_report, accuracy_score"
      ],
      "metadata": {
        "colab": {
          "base_uri": "https://localhost:8080/"
        },
        "id": "vne4uHLnAP7-",
        "outputId": "15778f23-157c-41d9-862c-81788a49dc41",
        "collapsed": true
      },
      "execution_count": 2,
      "outputs": [
        {
          "output_type": "stream",
          "name": "stdout",
          "text": [
            "Requirement already satisfied: torch in /usr/local/lib/python3.11/dist-packages (2.6.0+cu124)\n",
            "Requirement already satisfied: transformers in /usr/local/lib/python3.11/dist-packages (4.50.3)\n",
            "Requirement already satisfied: scikit-learn in /usr/local/lib/python3.11/dist-packages (1.6.1)\n",
            "Requirement already satisfied: tqdm in /usr/local/lib/python3.11/dist-packages (4.67.1)\n",
            "Requirement already satisfied: filelock in /usr/local/lib/python3.11/dist-packages (from torch) (3.18.0)\n",
            "Requirement already satisfied: typing-extensions>=4.10.0 in /usr/local/lib/python3.11/dist-packages (from torch) (4.13.0)\n",
            "Requirement already satisfied: networkx in /usr/local/lib/python3.11/dist-packages (from torch) (3.4.2)\n",
            "Requirement already satisfied: jinja2 in /usr/local/lib/python3.11/dist-packages (from torch) (3.1.6)\n",
            "Requirement already satisfied: fsspec in /usr/local/lib/python3.11/dist-packages (from torch) (2025.3.2)\n",
            "Requirement already satisfied: nvidia-cuda-nvrtc-cu12==12.4.127 in /usr/local/lib/python3.11/dist-packages (from torch) (12.4.127)\n",
            "Requirement already satisfied: nvidia-cuda-runtime-cu12==12.4.127 in /usr/local/lib/python3.11/dist-packages (from torch) (12.4.127)\n",
            "Requirement already satisfied: nvidia-cuda-cupti-cu12==12.4.127 in /usr/local/lib/python3.11/dist-packages (from torch) (12.4.127)\n",
            "Requirement already satisfied: nvidia-cudnn-cu12==9.1.0.70 in /usr/local/lib/python3.11/dist-packages (from torch) (9.1.0.70)\n",
            "Requirement already satisfied: nvidia-cublas-cu12==12.4.5.8 in /usr/local/lib/python3.11/dist-packages (from torch) (12.4.5.8)\n",
            "Requirement already satisfied: nvidia-cufft-cu12==11.2.1.3 in /usr/local/lib/python3.11/dist-packages (from torch) (11.2.1.3)\n",
            "Requirement already satisfied: nvidia-curand-cu12==10.3.5.147 in /usr/local/lib/python3.11/dist-packages (from torch) (10.3.5.147)\n",
            "Requirement already satisfied: nvidia-cusolver-cu12==11.6.1.9 in /usr/local/lib/python3.11/dist-packages (from torch) (11.6.1.9)\n",
            "Requirement already satisfied: nvidia-cusparse-cu12==12.3.1.170 in /usr/local/lib/python3.11/dist-packages (from torch) (12.3.1.170)\n",
            "Requirement already satisfied: nvidia-cusparselt-cu12==0.6.2 in /usr/local/lib/python3.11/dist-packages (from torch) (0.6.2)\n",
            "Requirement already satisfied: nvidia-nccl-cu12==2.21.5 in /usr/local/lib/python3.11/dist-packages (from torch) (2.21.5)\n",
            "Requirement already satisfied: nvidia-nvtx-cu12==12.4.127 in /usr/local/lib/python3.11/dist-packages (from torch) (12.4.127)\n",
            "Requirement already satisfied: nvidia-nvjitlink-cu12==12.4.127 in /usr/local/lib/python3.11/dist-packages (from torch) (12.4.127)\n",
            "Requirement already satisfied: triton==3.2.0 in /usr/local/lib/python3.11/dist-packages (from torch) (3.2.0)\n",
            "Requirement already satisfied: sympy==1.13.1 in /usr/local/lib/python3.11/dist-packages (from torch) (1.13.1)\n",
            "Requirement already satisfied: mpmath<1.4,>=1.1.0 in /usr/local/lib/python3.11/dist-packages (from sympy==1.13.1->torch) (1.3.0)\n",
            "Requirement already satisfied: huggingface-hub<1.0,>=0.26.0 in /usr/local/lib/python3.11/dist-packages (from transformers) (0.30.1)\n",
            "Requirement already satisfied: numpy>=1.17 in /usr/local/lib/python3.11/dist-packages (from transformers) (2.0.2)\n",
            "Requirement already satisfied: packaging>=20.0 in /usr/local/lib/python3.11/dist-packages (from transformers) (24.2)\n",
            "Requirement already satisfied: pyyaml>=5.1 in /usr/local/lib/python3.11/dist-packages (from transformers) (6.0.2)\n",
            "Requirement already satisfied: regex!=2019.12.17 in /usr/local/lib/python3.11/dist-packages (from transformers) (2024.11.6)\n",
            "Requirement already satisfied: requests in /usr/local/lib/python3.11/dist-packages (from transformers) (2.32.3)\n",
            "Requirement already satisfied: tokenizers<0.22,>=0.21 in /usr/local/lib/python3.11/dist-packages (from transformers) (0.21.1)\n",
            "Requirement already satisfied: safetensors>=0.4.3 in /usr/local/lib/python3.11/dist-packages (from transformers) (0.5.3)\n",
            "Requirement already satisfied: scipy>=1.6.0 in /usr/local/lib/python3.11/dist-packages (from scikit-learn) (1.14.1)\n",
            "Requirement already satisfied: joblib>=1.2.0 in /usr/local/lib/python3.11/dist-packages (from scikit-learn) (1.4.2)\n",
            "Requirement already satisfied: threadpoolctl>=3.1.0 in /usr/local/lib/python3.11/dist-packages (from scikit-learn) (3.6.0)\n",
            "Requirement already satisfied: MarkupSafe>=2.0 in /usr/local/lib/python3.11/dist-packages (from jinja2->torch) (3.0.2)\n",
            "Requirement already satisfied: charset-normalizer<4,>=2 in /usr/local/lib/python3.11/dist-packages (from requests->transformers) (3.4.1)\n",
            "Requirement already satisfied: idna<4,>=2.5 in /usr/local/lib/python3.11/dist-packages (from requests->transformers) (3.10)\n",
            "Requirement already satisfied: urllib3<3,>=1.21.1 in /usr/local/lib/python3.11/dist-packages (from requests->transformers) (2.3.0)\n",
            "Requirement already satisfied: certifi>=2017.4.17 in /usr/local/lib/python3.11/dist-packages (from requests->transformers) (2025.1.31)\n"
          ]
        }
      ]
    },
    {
      "cell_type": "markdown",
      "source": [
        "### Access Dataset"
      ],
      "metadata": {
        "id": "QsqJyUvTiJPa"
      }
    },
    {
      "cell_type": "code",
      "source": [
        "data_dir = \"/content/drive/MyDrive/Rust5/\""
      ],
      "metadata": {
        "id": "vs3dFI9CiTgn"
      },
      "execution_count": 3,
      "outputs": []
    },
    {
      "cell_type": "markdown",
      "source": [
        "## Graph Embedding"
      ],
      "metadata": {
        "id": "zRsgOxBmiZwR"
      }
    },
    {
      "cell_type": "markdown",
      "source": [
        "Graph embedding is a method to convert structured data (such as code represented as graphs or abstract syntax trees) into fixed-length numerical vectors. These vectors capture the relationships and properties of the original structure, allowing us to feed them into machine learning models."
      ],
      "metadata": {
        "id": "ukxdO4ipHCF_"
      }
    },
    {
      "cell_type": "markdown",
      "source": [
        "### GraphCodeBERT Model"
      ],
      "metadata": {
        "id": "bp9WtQhvjETN"
      }
    },
    {
      "cell_type": "markdown",
      "source": [
        "GraphCodeBERT is a pre-trained model designed for processing source code. It leverages both the structure of code (often represented as graphs) and natural language processing techniques. In this example, GraphCodeBERT is used to generate embeddings (vector representations) for LLVM IR (Intermediate Representation) code files. The model is based on the RoBERTa architecture and has been fine-tuned for code tasks."
      ],
      "metadata": {
        "id": "RFLPP8iWjQa-"
      }
    },
    {
      "cell_type": "markdown",
      "source": [
        "### Loading GraphCodeBERT tokenizer and model"
      ],
      "metadata": {
        "id": "9E18Tv-8_tiG"
      }
    },
    {
      "cell_type": "code",
      "source": [
        "tokenizer = RobertaTokenizer.from_pretrained(\"microsoft/graphcodebert-base\")\n",
        "model = RobertaModel.from_pretrained(\"microsoft/graphcodebert-base\")"
      ],
      "metadata": {
        "colab": {
          "base_uri": "https://localhost:8080/"
        },
        "id": "ZJYpnOhTBaVz",
        "outputId": "60902041-723b-42a1-8ac8-cdac94a5b179"
      },
      "execution_count": 4,
      "outputs": [
        {
          "output_type": "stream",
          "name": "stderr",
          "text": [
            "/usr/local/lib/python3.11/dist-packages/huggingface_hub/utils/_auth.py:94: UserWarning: \n",
            "The secret `HF_TOKEN` does not exist in your Colab secrets.\n",
            "To authenticate with the Hugging Face Hub, create a token in your settings tab (https://huggingface.co/settings/tokens), set it as secret in your Google Colab and restart your session.\n",
            "You will be able to reuse this secret in all of your notebooks.\n",
            "Please note that authentication is recommended but still optional to access public models or datasets.\n",
            "  warnings.warn(\n",
            "Some weights of RobertaModel were not initialized from the model checkpoint at microsoft/graphcodebert-base and are newly initialized: ['pooler.dense.bias', 'pooler.dense.weight']\n",
            "You should probably TRAIN this model on a down-stream task to be able to use it for predictions and inference.\n"
          ]
        }
      ]
    },
    {
      "cell_type": "markdown",
      "source": [
        "### GPU"
      ],
      "metadata": {
        "id": "jhgoMqHHix48"
      }
    },
    {
      "cell_type": "code",
      "source": [
        "device = torch.device(\"cuda\" if torch.cuda.is_available() else \"cpu\")\n",
        "model = model.to(device)\n",
        "\n",
        "print(\"Setup complete! Loaded GraphCodeBERT and configured the environment.\")"
      ],
      "metadata": {
        "colab": {
          "base_uri": "https://localhost:8080/"
        },
        "id": "nmblOvVWfUzx",
        "outputId": "f07f7936-19fe-4712-cd05-5f0741c6b8d6"
      },
      "execution_count": 5,
      "outputs": [
        {
          "output_type": "stream",
          "name": "stdout",
          "text": [
            "Setup complete! Loaded GraphCodeBERT and configured the environment.\n"
          ]
        }
      ]
    },
    {
      "cell_type": "markdown",
      "source": [
        "### Extracting Embeddings from .ll Files\n",
        "Preprocessing LLVM IR and removing comments and using mean pooling to get accurate embedding."
      ],
      "metadata": {
        "id": "WOqTowHY_2i6"
      }
    },
    {
      "cell_type": "markdown",
      "source": [
        "### Purpose\n",
        "\n",
        "In this step, we create two functions. The first function, preprocess_llvm_ir, cleans LLVM IR code by removing comments. The second function, get_graphcodebert_embedding, tokenizes the cleaned code, feeds it through GraphCodeBERT, and uses mean pooling on the model's output to obtain a fixed-length vector (embedding) that represents the code snippet."
      ],
      "metadata": {
        "id": "kHUNASnRNdnV"
      }
    },
    {
      "cell_type": "markdown",
      "source": [
        "Preprocessing Function:"
      ],
      "metadata": {
        "id": "25SNZNfpIW_6"
      }
    },
    {
      "cell_type": "code",
      "source": [
        "def preprocess_llvm_ir(code):\n",
        "\n",
        "    \"\"\"Removes comments and metadata from LLVM IR\"\"\"\n",
        "    lines = code.split(\"\\n\")\n",
        "    clean_lines = [line for line in lines if not line.strip().startswith(\";\")]  # Remove comments\n",
        "    return \"\\n\".join(clean_lines)"
      ],
      "metadata": {
        "id": "vwP0SqccIXSS"
      },
      "execution_count": 6,
      "outputs": []
    },
    {
      "cell_type": "markdown",
      "source": [
        "Embedding Extraction Function:"
      ],
      "metadata": {
        "id": "UQYbdtTvIca7"
      }
    },
    {
      "cell_type": "code",
      "source": [
        "def get_graphcodebert_embedding(code_snippet):\n",
        "\n",
        "    \"\"\"Tokenize the code and extract GraphCodeBERT embeddings with mean pooling.\"\"\"\n",
        "    tokens = tokenizer(code_snippet, padding=\"max_length\", truncation=True, max_length=512, return_tensors=\"pt\")\n",
        "    tokens = {key: val.to(device) for key, val in tokens.items()}\n",
        "\n",
        "    with torch.no_grad():\n",
        "        outputs = model(**tokens)\n",
        "\n",
        "    # Use mean pooling for better representation\n",
        "    embedding = outputs.last_hidden_state.mean(dim=1).squeeze().cpu().numpy()\n",
        "    return embedding\n"
      ],
      "metadata": {
        "id": "vfh6z0oSBfKG"
      },
      "execution_count": 7,
      "outputs": []
    },
    {
      "cell_type": "markdown",
      "source": [
        "### Dealing with Multiple Files\n",
        "\n",
        "This step defines a function to iterate through all LLVM IR (.ll) files in the specified directory. For each file, it reads and preprocesses the code, extracts an embedding using GraphCodeBERT, and assigns a label based on the file name. Finally, all embeddings and labels are stored as *NumPy arrays* for further processing."
      ],
      "metadata": {
        "id": "bXIBrnPAIjXt"
      }
    },
    {
      "cell_type": "code",
      "source": [
        "def extract_embeddings(data_dir):\n",
        "    embeddings = []\n",
        "    labels = []\n",
        "\n",
        "    for file_name in tqdm(os.listdir(data_dir), desc=\"Extracting embeddings from .ll files\"):\n",
        "        if file_name.endswith('.ll'):\n",
        "            file_path = os.path.join(data_dir, file_name)\n",
        "            with open(file_path, 'r') as f:\n",
        "                llvm_ir = f.read()\n",
        "\n",
        "                # Preprocessng llvm ir and get embedding\n",
        "                llvm_ir_cleaned = preprocess_llvm_ir(llvm_ir)\n",
        "                embedding = get_graphcodebert_embedding(llvm_ir_cleaned)\n",
        "\n",
        "                label = 1 if \"_v.ll\" in file_name else 0  # Assigning labels\n",
        "\n",
        "                embeddings.append(embedding)\n",
        "                labels.append(label)\n",
        "\n",
        "    return np.array(embeddings), np.array(labels)\n",
        "\n",
        "# Extracting embeddings\n",
        "X, y = extract_embeddings(data_dir)\n",
        "print(f\"Extracted embeddings for {len(X)} files.\")\n"
      ],
      "metadata": {
        "colab": {
          "base_uri": "https://localhost:8080/"
        },
        "id": "uIHedMgZUWoN",
        "outputId": "e1ae5bfd-9096-4277-ec5d-d0c48f5cd4bc"
      },
      "execution_count": 8,
      "outputs": [
        {
          "output_type": "stream",
          "name": "stderr",
          "text": [
            "Extracting embeddings from .ll files: 100%|██████████| 26/26 [01:12<00:00,  2.77s/it]"
          ]
        },
        {
          "output_type": "stream",
          "name": "stdout",
          "text": [
            "Extracted embeddings for 20 files.\n"
          ]
        },
        {
          "output_type": "stream",
          "name": "stderr",
          "text": [
            "\n"
          ]
        }
      ]
    },
    {
      "cell_type": "markdown",
      "source": [
        "### Splitting Data into Training and Testing Sets"
      ],
      "metadata": {
        "id": "teRUK6BWIv4H"
      }
    },
    {
      "cell_type": "markdown",
      "source": [
        "We split our dataset into training and testing sets to evaluate our model's performance on unseen data. This uses scikit-learn’s train_test_split function with stratification to ensure that both classes are represented proportionally in each set.\n",
        "*   *stratify=y* ensures that both classes are represented proportionally in both splits.\n",
        "*   *random_state=42* is used to make the split reproducible."
      ],
      "metadata": {
        "id": "49PJepV9OOa8"
      }
    },
    {
      "cell_type": "code",
      "source": [
        "X_train, X_test, y_train, y_test = train_test_split(X, y, test_size=0.2, stratify=y, random_state=42)\n",
        "\n",
        "print(f\"Training samples: {len(X_train)}, Testing samples: {len(X_test)}\")"
      ],
      "metadata": {
        "colab": {
          "base_uri": "https://localhost:8080/"
        },
        "id": "_gNAd7LWBwAW",
        "outputId": "8cd4a3e3-2fc3-401b-c779-293f6a04db16"
      },
      "execution_count": 9,
      "outputs": [
        {
          "output_type": "stream",
          "name": "stdout",
          "text": [
            "Training samples: 16, Testing samples: 4\n"
          ]
        }
      ]
    },
    {
      "cell_type": "markdown",
      "source": [
        "## Logistic Regression"
      ],
      "metadata": {
        "id": "YvWkmYkTAuI-"
      }
    },
    {
      "cell_type": "markdown",
      "source": [
        "Logistic Regression is a supervised machine learning algorithm. It is a classification algorithm used to predict the probability of a binary outcome (e.g. 0 or 1 / vulnerable vs. non-vulnerable code). It uses a sigmoid function to map a linear combination of input features to a probability between 0 and 1.  \n",
        "\n",
        "\n",
        "---\n",
        "\n",
        "\n",
        "In this workshop, logistic regression is used to classify LLVM IR code based on the embeddings generated by GraphCodeBERT. Logistic Regression is being used for smaller dataset and less complexity as simple baseline. We set max_iter=1000 to ensure the algorithm has enough iterations to converge.\n"
      ],
      "metadata": {
        "id": "UD_DLxbiAqRu"
      }
    },
    {
      "cell_type": "markdown",
      "source": [
        "### Training the Logistic Regression Classifier"
      ],
      "metadata": {
        "id": "1-F_OFLoJXoI"
      }
    },
    {
      "cell_type": "code",
      "source": [
        "from sklearn.linear_model import LogisticRegression\n",
        "\n",
        "# Training Logistic Regression classifier\n",
        "clf = LogisticRegression(max_iter=1000)\n",
        "clf.fit(X_train, y_train)\n",
        "\n",
        "# Predict on test data\n",
        "y_pred = clf.predict(X_test)\n"
      ],
      "metadata": {
        "id": "nQEerFxYB0G9"
      },
      "execution_count": 10,
      "outputs": []
    },
    {
      "cell_type": "markdown",
      "source": [
        "## Model Evaluation"
      ],
      "metadata": {
        "id": "d7QDUb9HFrMS"
      }
    },
    {
      "cell_type": "markdown",
      "source": [
        "This step evaluates the trained classifier by computing the accuracy and generating a classification report. The report provides detailed metrics including precision, recall, and F1-score for each class, helping us understand the performance of the model on the test set."
      ],
      "metadata": {
        "id": "JA-98_KhOcwn"
      }
    },
    {
      "cell_type": "markdown",
      "source": [
        "### Results and Analysis"
      ],
      "metadata": {
        "id": "VeysCUkqkDB-"
      }
    },
    {
      "cell_type": "code",
      "source": [
        "from sklearn.metrics import accuracy_score, classification_report\n",
        "\n",
        "y_pred = clf.predict(X_test)\n",
        "accuracy = accuracy_score(y_test, y_pred)\n",
        "\n",
        "print(f\"Model Accuracy: {accuracy:.4f}\")\n",
        "\n",
        "# Classification Report\n",
        "print(\"Classification Report:\")\n",
        "print(classification_report(y_test, y_pred))\n"
      ],
      "metadata": {
        "colab": {
          "base_uri": "https://localhost:8080/"
        },
        "id": "lHPblkjEVh7q",
        "outputId": "5a5d3739-ce1f-4fbe-92b8-0343eb11c962"
      },
      "execution_count": 11,
      "outputs": [
        {
          "output_type": "stream",
          "name": "stdout",
          "text": [
            "Model Accuracy: 0.7500\n",
            "Classification Report:\n",
            "              precision    recall  f1-score   support\n",
            "\n",
            "           0       0.67      1.00      0.80         2\n",
            "           1       1.00      0.50      0.67         2\n",
            "\n",
            "    accuracy                           0.75         4\n",
            "   macro avg       0.83      0.75      0.73         4\n",
            "weighted avg       0.83      0.75      0.73         4\n",
            "\n"
          ]
        }
      ]
    },
    {
      "cell_type": "markdown",
      "source": [
        "### Checking Vulnerability Status on a New LLVM IR File"
      ],
      "metadata": {
        "id": "_zYGFds7qi71"
      }
    },
    {
      "cell_type": "markdown",
      "source": [
        "Finally, we demonstrate how to use the pre-trained classifier to predict whether a new LLVM IR file is vulnerable. We first preprocess the new code, extract its embedding using the same process as before, and then use the classifier to make a prediction."
      ],
      "metadata": {
        "id": "Tr0mpAEnOjDr"
      }
    },
    {
      "cell_type": "code",
      "source": [
        "from google.colab import files\n",
        "uploaded = files.upload()"
      ],
      "metadata": {
        "id": "0dF1Vx4goq42",
        "colab": {
          "base_uri": "https://localhost:8080/",
          "height": 73
        },
        "outputId": "f74771d5-6903-4c92-8f71-0cdc80f55ca5"
      },
      "execution_count": 13,
      "outputs": [
        {
          "output_type": "display_data",
          "data": {
            "text/plain": [
              "<IPython.core.display.HTML object>"
            ],
            "text/html": [
              "\n",
              "     <input type=\"file\" id=\"files-66f53be7-d56a-4962-b41b-299960336b7b\" name=\"files[]\" multiple disabled\n",
              "        style=\"border:none\" />\n",
              "     <output id=\"result-66f53be7-d56a-4962-b41b-299960336b7b\">\n",
              "      Upload widget is only available when the cell has been executed in the\n",
              "      current browser session. Please rerun this cell to enable.\n",
              "      </output>\n",
              "      <script>// Copyright 2017 Google LLC\n",
              "//\n",
              "// Licensed under the Apache License, Version 2.0 (the \"License\");\n",
              "// you may not use this file except in compliance with the License.\n",
              "// You may obtain a copy of the License at\n",
              "//\n",
              "//      http://www.apache.org/licenses/LICENSE-2.0\n",
              "//\n",
              "// Unless required by applicable law or agreed to in writing, software\n",
              "// distributed under the License is distributed on an \"AS IS\" BASIS,\n",
              "// WITHOUT WARRANTIES OR CONDITIONS OF ANY KIND, either express or implied.\n",
              "// See the License for the specific language governing permissions and\n",
              "// limitations under the License.\n",
              "\n",
              "/**\n",
              " * @fileoverview Helpers for google.colab Python module.\n",
              " */\n",
              "(function(scope) {\n",
              "function span(text, styleAttributes = {}) {\n",
              "  const element = document.createElement('span');\n",
              "  element.textContent = text;\n",
              "  for (const key of Object.keys(styleAttributes)) {\n",
              "    element.style[key] = styleAttributes[key];\n",
              "  }\n",
              "  return element;\n",
              "}\n",
              "\n",
              "// Max number of bytes which will be uploaded at a time.\n",
              "const MAX_PAYLOAD_SIZE = 100 * 1024;\n",
              "\n",
              "function _uploadFiles(inputId, outputId) {\n",
              "  const steps = uploadFilesStep(inputId, outputId);\n",
              "  const outputElement = document.getElementById(outputId);\n",
              "  // Cache steps on the outputElement to make it available for the next call\n",
              "  // to uploadFilesContinue from Python.\n",
              "  outputElement.steps = steps;\n",
              "\n",
              "  return _uploadFilesContinue(outputId);\n",
              "}\n",
              "\n",
              "// This is roughly an async generator (not supported in the browser yet),\n",
              "// where there are multiple asynchronous steps and the Python side is going\n",
              "// to poll for completion of each step.\n",
              "// This uses a Promise to block the python side on completion of each step,\n",
              "// then passes the result of the previous step as the input to the next step.\n",
              "function _uploadFilesContinue(outputId) {\n",
              "  const outputElement = document.getElementById(outputId);\n",
              "  const steps = outputElement.steps;\n",
              "\n",
              "  const next = steps.next(outputElement.lastPromiseValue);\n",
              "  return Promise.resolve(next.value.promise).then((value) => {\n",
              "    // Cache the last promise value to make it available to the next\n",
              "    // step of the generator.\n",
              "    outputElement.lastPromiseValue = value;\n",
              "    return next.value.response;\n",
              "  });\n",
              "}\n",
              "\n",
              "/**\n",
              " * Generator function which is called between each async step of the upload\n",
              " * process.\n",
              " * @param {string} inputId Element ID of the input file picker element.\n",
              " * @param {string} outputId Element ID of the output display.\n",
              " * @return {!Iterable<!Object>} Iterable of next steps.\n",
              " */\n",
              "function* uploadFilesStep(inputId, outputId) {\n",
              "  const inputElement = document.getElementById(inputId);\n",
              "  inputElement.disabled = false;\n",
              "\n",
              "  const outputElement = document.getElementById(outputId);\n",
              "  outputElement.innerHTML = '';\n",
              "\n",
              "  const pickedPromise = new Promise((resolve) => {\n",
              "    inputElement.addEventListener('change', (e) => {\n",
              "      resolve(e.target.files);\n",
              "    });\n",
              "  });\n",
              "\n",
              "  const cancel = document.createElement('button');\n",
              "  inputElement.parentElement.appendChild(cancel);\n",
              "  cancel.textContent = 'Cancel upload';\n",
              "  const cancelPromise = new Promise((resolve) => {\n",
              "    cancel.onclick = () => {\n",
              "      resolve(null);\n",
              "    };\n",
              "  });\n",
              "\n",
              "  // Wait for the user to pick the files.\n",
              "  const files = yield {\n",
              "    promise: Promise.race([pickedPromise, cancelPromise]),\n",
              "    response: {\n",
              "      action: 'starting',\n",
              "    }\n",
              "  };\n",
              "\n",
              "  cancel.remove();\n",
              "\n",
              "  // Disable the input element since further picks are not allowed.\n",
              "  inputElement.disabled = true;\n",
              "\n",
              "  if (!files) {\n",
              "    return {\n",
              "      response: {\n",
              "        action: 'complete',\n",
              "      }\n",
              "    };\n",
              "  }\n",
              "\n",
              "  for (const file of files) {\n",
              "    const li = document.createElement('li');\n",
              "    li.append(span(file.name, {fontWeight: 'bold'}));\n",
              "    li.append(span(\n",
              "        `(${file.type || 'n/a'}) - ${file.size} bytes, ` +\n",
              "        `last modified: ${\n",
              "            file.lastModifiedDate ? file.lastModifiedDate.toLocaleDateString() :\n",
              "                                    'n/a'} - `));\n",
              "    const percent = span('0% done');\n",
              "    li.appendChild(percent);\n",
              "\n",
              "    outputElement.appendChild(li);\n",
              "\n",
              "    const fileDataPromise = new Promise((resolve) => {\n",
              "      const reader = new FileReader();\n",
              "      reader.onload = (e) => {\n",
              "        resolve(e.target.result);\n",
              "      };\n",
              "      reader.readAsArrayBuffer(file);\n",
              "    });\n",
              "    // Wait for the data to be ready.\n",
              "    let fileData = yield {\n",
              "      promise: fileDataPromise,\n",
              "      response: {\n",
              "        action: 'continue',\n",
              "      }\n",
              "    };\n",
              "\n",
              "    // Use a chunked sending to avoid message size limits. See b/62115660.\n",
              "    let position = 0;\n",
              "    do {\n",
              "      const length = Math.min(fileData.byteLength - position, MAX_PAYLOAD_SIZE);\n",
              "      const chunk = new Uint8Array(fileData, position, length);\n",
              "      position += length;\n",
              "\n",
              "      const base64 = btoa(String.fromCharCode.apply(null, chunk));\n",
              "      yield {\n",
              "        response: {\n",
              "          action: 'append',\n",
              "          file: file.name,\n",
              "          data: base64,\n",
              "        },\n",
              "      };\n",
              "\n",
              "      let percentDone = fileData.byteLength === 0 ?\n",
              "          100 :\n",
              "          Math.round((position / fileData.byteLength) * 100);\n",
              "      percent.textContent = `${percentDone}% done`;\n",
              "\n",
              "    } while (position < fileData.byteLength);\n",
              "  }\n",
              "\n",
              "  // All done.\n",
              "  yield {\n",
              "    response: {\n",
              "      action: 'complete',\n",
              "    }\n",
              "  };\n",
              "}\n",
              "\n",
              "scope.google = scope.google || {};\n",
              "scope.google.colab = scope.google.colab || {};\n",
              "scope.google.colab._files = {\n",
              "  _uploadFiles,\n",
              "  _uploadFilesContinue,\n",
              "};\n",
              "})(self);\n",
              "</script> "
            ]
          },
          "metadata": {}
        },
        {
          "output_type": "stream",
          "name": "stdout",
          "text": [
            "Saving fixed_park.ll to fixed_park (1).ll\n"
          ]
        }
      ]
    },
    {
      "cell_type": "code",
      "source": [
        "filename = list(uploaded.keys())[0]"
      ],
      "metadata": {
        "id": "JOdVg3vGqbFZ"
      },
      "execution_count": 14,
      "outputs": []
    },
    {
      "cell_type": "code",
      "source": [
        "code = uploaded[filename].decode(\"utf-8\")\n",
        "\n",
        "# Preprocess the code\n",
        "def preprocess_llvm_ir(code):\n",
        "    lines = code.split(\"\\n\")\n",
        "    clean_lines = [line for line in lines if not line.strip().startswith(\";\")]\n",
        "    return \"\\n\".join(clean_lines)\n",
        "\n",
        "code_clean = preprocess_llvm_ir(code)\n",
        "\n",
        "\n",
        "# Extract embedding using GraphCodeBERT (mean pooling)\n",
        "def graph_embedding(code_snippet):\n",
        "    tokens = tokenizer(code_snippet, padding=\"max_length\", truncation=True, max_length=512, return_tensors=\"pt\")\n",
        "    tokens = {key: val.to(device) for key, val in tokens.items()}\n",
        "\n",
        "\n",
        "    with torch.no_grad():\n",
        "        outputs = model(**tokens)\n",
        "    embedding = outputs.last_hidden_state.mean(dim=1).squeeze().cpu().numpy()\n",
        "    return embedding\n",
        "\n",
        "\n",
        "embedding = graph_embedding(code_clean).reshape(1, -1)\n",
        "\n",
        "# Using pre-trained classifier (clf) to predict vulnerability:\n",
        "prediction = clf.predict(embedding)[0]\n",
        "result = \"Vulnerable.\" if prediction == 1 else \"Non-Vulnerable.\"\n",
        "print(f\"The code sample '{filename}' is {result}\")\n"
      ],
      "metadata": {
        "id": "O0WPQ7mVotkp",
        "colab": {
          "base_uri": "https://localhost:8080/"
        },
        "outputId": "e08b3c7a-f1c3-4720-925d-b33e7dacdb41"
      },
      "execution_count": 15,
      "outputs": [
        {
          "output_type": "stream",
          "name": "stdout",
          "text": [
            "The code sample 'fixed_park (1).ll' is Non-Vulnerable.\n"
          ]
        }
      ]
    },
    {
      "cell_type": "code",
      "source": [
        "print(embedding)"
      ],
      "metadata": {
        "id": "Hs8GOPxe2lAE",
        "outputId": "e1a0d38f-7ec7-4ea5-f05e-0b3edda3332a",
        "colab": {
          "base_uri": "https://localhost:8080/"
        },
        "collapsed": true
      },
      "execution_count": 16,
      "outputs": [
        {
          "output_type": "stream",
          "name": "stdout",
          "text": [
            "[[ 1.07208997e-01 -2.08528906e-01  5.51155172e-02  5.63649274e-02\n",
            "   4.42484081e-01 -2.77596533e-01 -2.30646394e-02  4.97877032e-01\n",
            "   2.57303178e-01 -2.98079848e-01  1.23061955e-01 -1.97312042e-01\n",
            "  -4.74991463e-02 -1.60743386e-01 -9.83830243e-02 -1.11717463e-01\n",
            "  -2.54856288e-01  1.28773406e-01 -1.99194476e-02 -6.38989657e-02\n",
            "  -2.50214756e-01  2.62920380e-01  6.85099736e-02  1.39488965e-01\n",
            "  -1.91646926e-02 -2.56677985e-01  6.50677562e-01  4.40217316e-01\n",
            "  -1.56531319e-01 -5.68266772e-02  6.07435852e-02  2.27192372e-01\n",
            "   2.88043201e-01  3.23595433e-03  2.13428557e-01 -9.29993466e-02\n",
            "   1.54067576e-01  4.05771472e-02  3.17376494e-01  1.19723849e-01\n",
            "   1.02170832e-01 -4.44759816e-01 -2.96016932e-01  6.43637180e-02\n",
            "  -1.32637229e-02  1.76111355e-01  4.30729240e-02  5.38794547e-02\n",
            "   1.30540784e-03 -5.32410927e-02 -1.72169674e-02  1.24566287e-01\n",
            "   2.66256243e-01  1.09321937e-01 -2.04648852e-01 -5.43771908e-02\n",
            "  -9.66179222e-02 -1.16886377e-01 -2.50779539e-01 -2.28378884e-02\n",
            "   2.84260392e-01  4.55875874e-01 -2.23215669e-03 -1.92246526e-01\n",
            "   3.28474492e-01 -9.63448361e-02 -8.11308250e-03 -6.86159953e-02\n",
            "   1.53749973e-01  4.49688025e-02 -9.70649719e-02 -1.89917058e-01\n",
            "   1.06277585e-01 -2.81011105e-01  1.50992438e-01  4.29573596e-01\n",
            "  -1.29669771e-01 -3.45745277e+00  3.24005604e-01  3.01516056e-01\n",
            "   3.28106940e-01 -3.53489518e-01  7.43394613e-01  6.76614270e-02\n",
            "   3.84209082e-02 -4.14555334e-02 -5.26220724e-02  6.17928058e-02\n",
            "   1.87317103e-01 -9.14230943e-02 -3.73663544e-03  2.01109126e-01\n",
            "   4.42963839e-02  3.58806908e-01  8.87211934e-02  3.59055579e-01\n",
            "   6.36812374e-02 -6.94832802e-01  5.10448702e-02 -4.39861454e-02\n",
            "  -1.88269734e-01 -6.51432499e-02 -1.51269853e-01  3.53846669e-01\n",
            "  -8.96583050e-02  9.83708203e-02 -1.07190132e-01 -3.80132198e-01\n",
            "  -1.95437104e-01 -1.98063433e-01  9.95649397e-02  1.12005793e-01\n",
            "   3.67504686e-01  3.77667904e-01 -1.63806349e-01 -2.43858606e-01\n",
            "   2.55450960e-02  7.89151117e-02  1.23297386e-01  4.10366297e-01\n",
            "   2.22806185e-01  2.99257696e-01  6.39545321e-01  1.04123279e-01\n",
            "  -1.41903892e-01  1.71786830e-01 -2.88234837e-02 -2.97552943e-01\n",
            "   3.35922122e-01  3.83443683e-02  1.23409547e-01 -4.69617188e-01\n",
            "  -2.14295894e-01  2.43189603e-01  2.17606306e-01  2.87256949e-02\n",
            "   5.34089208e-01 -1.17028490e-01  1.29766047e-01 -7.55007192e-02\n",
            "   5.07394746e-02 -1.12751007e-01  5.49106419e-01  4.09612022e-02\n",
            "  -7.40473866e-02  1.72999889e-01 -6.84724748e-03  8.17461759e-02\n",
            "  -1.88897923e-03 -8.04883391e-02 -1.55159414e-01 -2.64795512e-01\n",
            "  -7.69963264e-02 -1.22252449e-01 -1.56280011e-01  7.91034251e-02\n",
            "   3.03103656e-01  5.05187392e-01  2.82535940e-01  7.67076969e-01\n",
            "   3.70587707e-01  4.73716073e-02  8.57160538e-02  1.24157861e-01\n",
            "   1.88372284e-01  2.95219749e-01  2.34776348e-01  1.68135077e-01\n",
            "   3.19326809e-03  3.30140024e-01 -2.86775023e-01 -3.21498625e-02\n",
            "  -1.91128761e-01  7.76776671e-02  7.10111186e-02 -7.75746554e-02\n",
            "   4.23765779e-01  1.73698545e-01 -2.49527723e-01 -4.42558713e-02\n",
            "   1.27812505e-01 -6.52592629e-04 -1.02157138e-01  1.31145209e-01\n",
            "   1.82285756e-01  2.93105036e-01 -5.18170185e-02  2.94022441e-01\n",
            "   1.52214915e-01  1.40640274e-01 -1.18294224e-01  1.47601679e-01\n",
            "  -5.23468144e-02  5.14153421e-01  7.71739036e-02 -1.20474763e-01\n",
            "   8.43984783e-02 -9.09530222e-02  4.45432723e-01 -1.01040795e-01\n",
            "  -4.95936573e-02  2.97877938e-02  2.27162719e-01 -1.14263713e-01\n",
            "   7.05585957e-01  7.96978325e-02  3.43072414e-01  1.40276462e-01\n",
            "   1.43852919e-01  1.98454618e-01 -7.24452585e-02  2.69267917e-01\n",
            "   2.02350229e-01  2.35002831e-01  1.87286019e-01  3.14432681e-01\n",
            "   4.46008742e-02 -4.09412742e-01 -8.15332755e-02 -3.62286747e-01\n",
            "   2.80071795e-01  2.36252043e-02  4.74815592e-02 -1.81486845e-01\n",
            "  -5.02583496e-02 -5.95284402e-02  1.15155220e-01 -7.70247579e-02\n",
            "  -6.34783357e-02  2.51392007e-01  2.54905224e-01  1.27857164e-01\n",
            "   1.35821849e-01 -5.16531505e-02  4.14913237e-01 -1.48745686e-01\n",
            "  -1.27727970e-01  1.93722725e-01  1.78090960e-01 -1.23238415e-01\n",
            "  -4.71618891e-01 -7.75039792e-02  1.99350476e-01  2.77139783e-01\n",
            "   1.19842425e-01  3.65208864e-01 -5.32619655e-04  2.52064168e-01\n",
            "  -4.72315475e-02  4.23442945e-03  2.45669663e-01  1.10054947e-02\n",
            "   2.76598245e-01 -2.27750033e-01  4.23640072e-01 -3.85429323e-01\n",
            "   1.36889787e-02 -9.20864642e-02 -2.63331950e-01 -4.71224666e-01\n",
            "   1.05595589e-01 -4.15420145e-01  2.27530956e-01 -1.52681500e-01\n",
            "  -2.59992301e-01 -8.75099674e-02  1.92551687e-01  1.25996560e-01\n",
            "  -4.83247153e-02  2.64961068e-02  1.48871779e-01 -2.16584038e-02\n",
            "   2.84437478e-01 -1.88901439e-01  5.38613014e-02 -2.23768521e-02\n",
            "   1.25908658e-01 -6.28226995e-02  5.39048076e-01 -1.25543714e-01\n",
            "   4.53636825e-01  2.79804617e-02  6.80819631e-01 -1.35180026e-01\n",
            "   6.87327236e-02  3.21153924e-02 -5.69236517e-01 -2.49029025e-01\n",
            "   5.82380369e-02  5.69964126e-02 -2.51565166e-02  4.42366339e-02\n",
            "   1.48977801e-01  1.52238943e-02 -2.86426604e-01  1.15004420e-01\n",
            "   2.14059860e-01  6.19431809e-02  4.45328444e-01 -2.74931286e-02\n",
            "  -1.40002936e-01 -3.18669975e-02 -2.10356146e-01 -2.51709670e-03\n",
            "   1.92120373e-01 -2.95645744e-01  7.08087161e-02  1.58329368e-01\n",
            "   1.18638352e-01  2.90354133e-01  1.44743785e-01  2.42971808e-01\n",
            "  -2.38348022e-01  6.07631207e-01  6.75898604e-03 -7.95646831e-02\n",
            "   1.32577300e-01  1.18233211e-01  3.41107808e-02 -1.79733574e-01\n",
            "  -1.10734992e-01 -1.32316440e-01  1.68182164e-01  2.10336477e-01\n",
            "   3.09902966e-01  3.32167923e-01 -2.24076539e-01 -4.44502473e-01\n",
            "  -8.87829661e-02  1.64694831e-01  2.70029485e-01  1.41913295e+00\n",
            "   2.58985817e-01  1.90917969e-01 -5.82593009e-02  2.82977104e-01\n",
            "   1.67599380e-01  9.14160609e-02  6.05912685e-01  2.71666199e-01\n",
            "  -9.01654288e-02  1.87657729e-01  1.80140324e-03 -4.17145602e-02\n",
            "   1.99308991e-01  2.32089996e-01  3.10257494e-01  2.15694949e-01\n",
            "   2.40572885e-01  2.49355435e-01  1.20299764e-01 -9.31400210e-02\n",
            "   1.50676044e-02 -1.49839744e-01  1.98694706e-01 -5.54586314e-02\n",
            "   1.13362312e-01  2.42853940e-01  1.12851486e-01  1.28235176e-01\n",
            "   1.39071509e-01  2.34686702e-01  2.81778127e-02  2.43181497e-01\n",
            "   7.72744566e-02 -1.87744915e-01 -1.47200012e+00 -3.73315718e-03\n",
            "  -1.72458336e-01 -2.87864283e-02  2.55971491e-01  3.39820921e-01\n",
            "   7.61938766e-02 -2.38134682e-01 -3.16620171e-02  4.11406495e-02\n",
            "   2.38411322e-01  2.96008706e-01  4.41003412e-01 -3.13163586e-02\n",
            "   2.78566498e-02  5.48565909e-02  1.08216271e-01  3.94486725e-01\n",
            "  -5.29377088e-02  9.64263976e-02  4.33152735e-01 -1.04351059e-01\n",
            "   2.48533681e-01 -3.36021483e-02 -5.27823195e-02 -2.06353977e-01\n",
            "   1.89294696e-01 -6.17515370e-02  2.16492772e-01 -2.07263604e-01\n",
            "  -5.16538955e-02  3.33028078e-01  2.63292134e-01 -1.36466682e-01\n",
            "   5.80974668e-02 -1.20003015e-01  1.19704723e-01  5.06416559e-01\n",
            "  -8.49949755e-03 -6.84793890e-02  3.68447483e-01 -2.21997917e-01\n",
            "   1.99687526e-01 -2.72526205e-01  7.29245096e-02 -1.11122221e-01\n",
            "   7.67633840e-02 -2.36376151e-02  2.21053809e-01  1.67976975e-01\n",
            "   5.67538738e-02 -2.10314453e-01 -4.12958637e-02  1.39850527e-01\n",
            "  -3.42526674e-01  1.27299294e-01  1.25307571e-02  8.17044154e-02\n",
            "   1.04368210e+00 -1.27626523e-01  1.11037418e-01 -2.84292698e-01\n",
            "  -9.96852517e-02 -1.07740894e-01 -1.18558407e-02  1.39670089e-01\n",
            "  -1.72598004e-01 -2.90699638e-02 -8.18742290e-02  1.91826105e-01\n",
            "  -1.00491352e-01  3.26439254e-02 -5.05605526e-02  1.02833807e-01\n",
            "   4.08122659e-01  2.61070877e-01  8.26707184e-02  4.33947295e-01\n",
            "   1.52635738e-01  1.46901861e-01  1.65685877e-01  5.39040416e-02\n",
            "   2.95478940e-01 -7.96407610e-02 -3.71316448e-02  2.24080980e-01\n",
            "  -6.90176785e-02 -2.76215363e+00  9.05843675e-02 -9.04159024e-02\n",
            "   7.35217333e-01 -2.91727912e-02  9.28253829e-02  2.50103056e-01\n",
            "   8.49398598e-02  1.82521880e-01  3.18940468e-02 -1.55816391e-01\n",
            "   2.55406853e-02 -2.28418201e-01  1.33557180e-02  9.88791287e-02\n",
            "  -8.27397928e-02 -1.18597567e-01  1.80418342e-02  2.25898325e-01\n",
            "  -2.26184919e-01 -5.27599454e-01 -1.07237875e-01 -4.08488214e-01\n",
            "   1.19602174e-01  3.91162872e-01  2.70968564e-02 -2.15578657e-02\n",
            "   2.24109158e-01 -2.68181637e-02  3.34864780e-02  2.92255990e-02\n",
            "  -8.54566619e-02  6.39328361e-02  2.60285456e-02  1.46685675e-01\n",
            "   1.98811933e-01 -3.26359987e-01  3.82526256e-02  1.73407733e-01\n",
            "  -6.57086000e-02  4.49812293e-01  1.57083541e-01  1.88421384e-01\n",
            "  -7.63716519e-01 -4.13507044e-01 -1.86082885e-01 -8.41775537e-03\n",
            "  -4.99553382e-02 -2.99652629e-02 -1.14729896e-01 -1.22622438e-02\n",
            "   7.05898404e-02  5.39665341e-01 -3.01695496e-01 -1.56893656e-01\n",
            "   7.75704682e-02  2.55198121e-01 -2.17414856e-01 -1.54892772e-01\n",
            "   1.08503215e-01  2.03960776e-01  2.99057931e-01  2.39030644e-01\n",
            "  -2.65904337e-01 -1.20807007e-01  2.06658825e-01  2.99892783e-01\n",
            "   4.22197543e-02  4.01763320e-01 -4.58567813e-02  1.34381413e-01\n",
            "   8.15056562e-02 -1.63285717e-01  1.04712561e-01  2.87553985e-02\n",
            "  -3.61594819e-02 -2.01428592e-01  8.94504428e-01 -1.76067591e-01\n",
            "   1.33009493e-01  2.09507674e-01 -4.34267700e-01  9.36350524e-02\n",
            "   8.03087465e-03  1.58228278e-01  2.69856840e-01  1.40292570e-03\n",
            "  -4.66212213e-01  1.93660349e-01 -7.21790642e-03 -1.30913556e-01\n",
            "   2.52217859e-01 -2.57189929e-01  1.33581758e-01  3.90387438e-02\n",
            "   4.22957577e-02  1.26495892e-02  5.09656727e-01  2.92204523e+00\n",
            "   1.77405085e-02 -1.35919116e-02  6.72228783e-02  4.46879044e-02\n",
            "   7.23565221e-02  3.91432270e-02 -2.56029963e-01  3.91613483e-01\n",
            "   7.31511414e-02 -7.94710070e-02  4.31166627e-02 -4.21883501e-02\n",
            "   1.11246727e-01 -6.72149658e-02  1.56337798e-01  3.09906125e-01\n",
            "  -1.92814872e-01  1.24855176e-01  2.23370433e-01  4.94403601e-01\n",
            "  -2.38529928e-02 -5.42950956e-03  7.01251030e-02  1.51341394e-01\n",
            "   2.27336407e-01  5.80792427e-01  2.88657472e-03  3.71783733e-01\n",
            "   1.27692088e-01  2.09682826e-02  2.11626396e-01  1.21117651e-01\n",
            "   2.07437292e-01  6.40200496e-01  5.05040586e-02  5.30267358e-02\n",
            "   1.65542245e+00  1.95091337e-01  1.60815656e-01  4.20996010e-01\n",
            "   4.10966873e-02  4.13252153e-02 -8.23304728e-02  1.13069713e-01\n",
            "  -1.66003391e-01  1.06228843e-01 -1.73740178e-01  2.63418376e-01\n",
            "  -5.62337153e-02 -9.46518034e-02  5.28784953e-02  1.85757667e-01\n",
            "  -6.89636823e-03 -2.92654298e-02  1.63808912e-01  2.37631664e-01\n",
            "  -4.30107154e-02 -2.03494281e-01  6.57388568e-02  1.16593719e+00\n",
            "  -1.61071196e-01 -2.17473179e-01  2.26676896e-01 -1.34208530e-01\n",
            "  -2.66948164e-01  3.07816695e-02  8.95106271e-02  2.57514715e-01\n",
            "   1.37547165e-01  5.08026555e-02 -2.70900667e-01 -6.54825345e-02\n",
            "   1.46790862e-01 -2.57743299e-01  2.14530617e-01  1.25666559e-01\n",
            "   2.52860337e-01  8.90420824e-02 -5.71303703e-02  4.16988805e-02\n",
            "   5.31373583e-02  3.01103145e-01 -4.57010642e-02  8.96650106e-02\n",
            "  -5.16558066e-03 -6.46385923e-02 -3.38252671e-02 -2.41721749e-01\n",
            "  -3.54755148e-02  1.90241355e-02 -3.97809446e-02  5.68691716e-02\n",
            "   2.63462782e-01 -2.47664437e-01  2.92632222e-01 -2.27074265e-01\n",
            "  -3.47054526e-02  7.54634976e-01  1.77406743e-02  1.88044071e-01\n",
            "   1.02704108e-01  1.59997314e-01 -1.02106176e-01  3.69101644e-01\n",
            "   5.49340367e-01 -2.90884972e-02  4.00038540e-01 -1.19991861e-02\n",
            "   3.04689556e-02  1.88359842e-01 -3.05118799e-01 -3.66043858e-02\n",
            "   1.50859922e-01  9.38772224e-03 -4.06445041e-02 -8.82432759e-02\n",
            "   2.53948599e-01  7.29687735e-02 -2.03353584e-01 -5.54029979e-02\n",
            "   1.31504267e-01  2.18426257e-01  2.32761517e-01  3.35395575e-01\n",
            "   2.34339207e-01 -2.70449489e-01 -1.26601398e-01  3.82961035e-01\n",
            "   3.12435687e-01  7.60248080e-02  1.29603148e-01 -2.26310462e-01\n",
            "  -1.81482211e-01  2.90343463e-02  1.69772804e-01 -9.89407450e-02\n",
            "   3.16767395e-02  1.28569767e-01 -2.17732742e-01  5.03788114e-01\n",
            "   4.98854935e-01  7.86923990e-02  1.15018383e-01  1.09647013e-01\n",
            "   1.77695721e-01  2.95037031e-02 -1.11625060e-01  6.55578732e-01\n",
            "  -2.01259218e-02 -7.43919834e-02  2.77311683e-01 -3.10809501e-02\n",
            "  -3.15756202e-01  2.01209977e-01 -3.84024307e-02  3.06679875e-01\n",
            "  -1.99239254e-01  1.34797782e-01 -3.21981817e-01  4.50695716e-02\n",
            "   1.08162329e-01 -3.85528617e-02 -3.06550339e-02 -2.28908569e-01\n",
            "   1.53145194e-01 -1.47153158e-02  4.69289839e-01 -6.21134117e-02\n",
            "   2.99425185e-01  1.38596535e-01  3.06218326e-01  7.05103353e-02\n",
            "   1.53724819e-01 -3.31550674e-03  3.78471255e-01  2.02400252e-01\n",
            "   5.10634959e-01  1.04139172e-01  3.73839766e-01 -1.15708995e+00\n",
            "  -4.44257915e-01  1.70999300e-02  3.08317076e-02  4.91521806e-01\n",
            "   9.69937146e-02 -3.45233768e-01  1.56203568e-01 -3.03196236e-02\n",
            "   8.25993717e-02  3.06180149e-01  2.60325164e-01 -2.20056772e-01\n",
            "   1.30901337e-02 -2.56881379e-02 -1.39315039e-01 -4.08547148e-02\n",
            "  -1.36745036e-01 -7.05016017e-01  3.32528092e-02  8.84561688e-02\n",
            "  -1.36790603e-01 -1.07389733e-01  3.10155779e-01  1.25228718e-01\n",
            "   1.36137083e-01  2.51910090e-01  1.19957171e-01  7.00006336e-02\n",
            "   2.23161709e-02  4.11087275e-01  2.94904351e-01  8.16000029e-02\n",
            "   3.70066345e-01  2.45468915e-01 -1.11139685e-01  2.44256020e-01]]\n"
          ]
        }
      ]
    }
  ]
}